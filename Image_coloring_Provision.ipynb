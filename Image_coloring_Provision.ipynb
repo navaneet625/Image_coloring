{
 "cells": [
  {
   "cell_type": "code",
   "execution_count": 2,
   "metadata": {},
   "outputs": [],
   "source": [
    "import numpy as np\n",
    "import pandas as pd\n",
    "import os\n",
    "import cv2\n",
    "import matplotlib.pyplot as plt\n",
    "from sklearn.model_selection import train_test_split\n",
    "from keras.optimizers import Adam\n",
    "from keras import backend as K\n",
    "from keras.layers import Conv2D,MaxPooling2D,UpSampling2D,Input,BatchNormalization,LeakyReLU,ReLU,Conv2DTranspose\n",
    "from keras.layers.merge import concatenate\n",
    "from keras.models import Model\n",
    "from keras.preprocessing.image import ImageDataGenerator\n",
    "import tensorflow.compat.v1 as tf\n",
    "import tensorflow"
   ]
  },
  {
   "cell_type": "code",
   "execution_count": 3,
   "metadata": {},
   "outputs": [
    {
     "name": "stdout",
     "output_type": "stream",
     "text": [
      "['train', 'val']\n"
     ]
    }
   ],
   "source": [
    "tensorflow.random.set_seed(123)\n",
    "session_conf = tf.ConfigProto(intra_op_parallelism_threads=1, inter_op_parallelism_threads=1)\n",
    "sess=tf.Session(graph=tf.get_default_graph(), config=session_conf)\n",
    "tf.keras.backend.set_session(sess)\n",
    "tensorflow.random.set_seed(2)\n",
    "np.random.seed(1)\n",
    "print(os.listdir(\"./images/\"))"
   ]
  },
  {
   "cell_type": "code",
   "execution_count": 4,
   "metadata": {},
   "outputs": [],
   "source": [
    "HEIGHT=256\n",
    "WIDTH=256\n",
    "ImagePath=\"./images/\"+\"train\"+\"/class/\"\n",
    "\n",
    "def ExtractInput(path):\n",
    "    X_img=[]\n",
    "    y_img=[]\n",
    "    for imageDir in os.listdir(ImagePath):\n",
    "        try:\n",
    "            img = cv2.imread(ImagePath + imageDir)\n",
    "            img = cv2.cvtColor(img, cv2.COLOR_BGR2RGB)\n",
    "\n",
    "            #img = img.astype(np.float32)\n",
    "            img_lab = cv2.cvtColor(img, cv2.COLOR_RGB2Lab)\n",
    "\n",
    "            img_lab_rs = cv2.resize(img_lab, (WIDTH, HEIGHT))\n",
    "            \n",
    "            img_lab_rs_norm = (img_lab_rs -[0,0,0])/[100,110,110]\n",
    "            \n",
    "            #Extracting the l and ab channel\n",
    "            img_l = img_lab_rs[:,:,0]\n",
    "            img_ab = img_lab_rs[:,:,1:]\n",
    "            \n",
    "            X_img.append(img_l)\n",
    "            y_img.append(img_ab)\n",
    "        except:\n",
    "            pass\n",
    "    X_img = np.array(X_img)\n",
    "    y_img = np.array(y_img)\n",
    "    return X_img,y_img"
   ]
  },
  {
   "cell_type": "code",
   "execution_count": 5,
   "metadata": {},
   "outputs": [],
   "source": [
    "X_,y_ = ExtractInput(ImagePath) # Data-preprocessing"
   ]
  },
  {
   "cell_type": "code",
   "execution_count": 6,
   "metadata": {},
   "outputs": [
    {
     "data": {
      "text/plain": [
       "((80, 256, 256), (80, 256, 256, 2))"
      ]
     },
     "execution_count": 6,
     "metadata": {},
     "output_type": "execute_result"
    }
   ],
   "source": [
    "X_.shape,y_.shape"
   ]
  },
  {
   "cell_type": "code",
   "execution_count": 7,
   "metadata": {},
   "outputs": [],
   "source": [
    "K.clear_session()\n",
    "def InstantiateModel(in_):\n",
    "    #model 1\n",
    "    model_ = Conv2D(64,(3,3),padding=\"same\",use_bias=True)(in_)\n",
    "    model_ = ReLU()(model_)\n",
    "    model_ = BatchNormalization()(model_)\n",
    "    \n",
    "    #model 2\n",
    "    model_ = Conv2D(128,(3,3),padding=\"same\",use_bias=True)(model_)\n",
    "    model_ = ReLU()(model_)\n",
    "    model_ = BatchNormalization()(model_)\n",
    "    \n",
    "    #model 3\n",
    "    model_ = Conv2D(256,(3,3),padding=\"same\",use_bias=True)(model_)\n",
    "    model_ = ReLU()(model_)\n",
    "    model_ = BatchNormalization()(model_)\n",
    "    \n",
    "    #model 4\n",
    "    model_ = Conv2D(512,(3,3),padding=\"same\",use_bias=True)(model_)\n",
    "    model_ = ReLU()(model_)\n",
    "    model_ = BatchNormalization()(model_)\n",
    "    \n",
    "    #model 5\n",
    "    model_ = Conv2D(512,(3,3),dilation_rate=2,padding=\"same\",use_bias=True)(model_)\n",
    "    model_ = ReLU()(model_)\n",
    "    model_ = BatchNormalization()(model_)\n",
    "    \n",
    "    #model 6\n",
    "    model_ = Conv2D(512,(3,3),dilation_rate=2,padding=\"same\",use_bias=True)(model_)\n",
    "    model_ = ReLU()(model_)\n",
    "    model_ = BatchNormalization()(model_)\n",
    "    \n",
    "    #model 7\n",
    "    model_ = Conv2D(512,(3,3),padding=\"same\",use_bias=True)(model_)\n",
    "    model_ = ReLU()(model_)\n",
    "    model_ = BatchNormalization()(model_)\n",
    "        \n",
    "    #model 8\n",
    "    model_ = UpSampling2D((2, 2))(model_)\n",
    "    model_ = Conv2DTranspose(256,(4,4),padding=\"same\",strides=2,use_bias=True)(model_)\n",
    "    model_ = ReLU()(model_)\n",
    "        \n",
    "    #model_ = UpSampling2D((2, 2))(model_)\n",
    "    model_ = Conv2D(313,(3,3),padding='same')(model_)\n",
    "    model_ = ReLU()(model_)\n",
    "    model_ = BatchNormalization()(model_)\n",
    "    \n",
    "    model_ = Conv2D(2,(3,3), activation='tanh',padding='same')(model_)\n",
    "    return model_"
   ]
  },
  {
   "cell_type": "code",
   "execution_count": 8,
   "metadata": {},
   "outputs": [],
   "source": [
    "Input_Sample = Input(shape=(HEIGHT, WIDTH,1))\n",
    "Output_ = InstantiateModel(Input_Sample)\n",
    "Model_Colourization = Model(inputs=Input_Sample, outputs=Output_)"
   ]
  },
  {
   "cell_type": "code",
   "execution_count": 9,
   "metadata": {
    "scrolled": true
   },
   "outputs": [
    {
     "name": "stdout",
     "output_type": "stream",
     "text": [
      "Model: \"model\"\n",
      "_________________________________________________________________\n",
      "Layer (type)                 Output Shape              Param #   \n",
      "=================================================================\n",
      "input_1 (InputLayer)         [(None, 256, 256, 1)]     0         \n",
      "_________________________________________________________________\n",
      "conv2d (Conv2D)              (None, 256, 256, 64)      640       \n",
      "_________________________________________________________________\n",
      "re_lu (ReLU)                 (None, 256, 256, 64)      0         \n",
      "_________________________________________________________________\n",
      "batch_normalization (BatchNo (None, 256, 256, 64)      256       \n",
      "_________________________________________________________________\n",
      "conv2d_1 (Conv2D)            (None, 256, 256, 128)     73856     \n",
      "_________________________________________________________________\n",
      "re_lu_1 (ReLU)               (None, 256, 256, 128)     0         \n",
      "_________________________________________________________________\n",
      "batch_normalization_1 (Batch (None, 256, 256, 128)     512       \n",
      "_________________________________________________________________\n",
      "conv2d_2 (Conv2D)            (None, 256, 256, 256)     295168    \n",
      "_________________________________________________________________\n",
      "re_lu_2 (ReLU)               (None, 256, 256, 256)     0         \n",
      "_________________________________________________________________\n",
      "batch_normalization_2 (Batch (None, 256, 256, 256)     1024      \n",
      "_________________________________________________________________\n",
      "conv2d_3 (Conv2D)            (None, 256, 256, 512)     1180160   \n",
      "_________________________________________________________________\n",
      "re_lu_3 (ReLU)               (None, 256, 256, 512)     0         \n",
      "_________________________________________________________________\n",
      "batch_normalization_3 (Batch (None, 256, 256, 512)     2048      \n",
      "_________________________________________________________________\n",
      "conv2d_4 (Conv2D)            (None, 256, 256, 512)     2359808   \n",
      "_________________________________________________________________\n",
      "re_lu_4 (ReLU)               (None, 256, 256, 512)     0         \n",
      "_________________________________________________________________\n",
      "batch_normalization_4 (Batch (None, 256, 256, 512)     2048      \n",
      "_________________________________________________________________\n",
      "conv2d_5 (Conv2D)            (None, 256, 256, 512)     2359808   \n",
      "_________________________________________________________________\n",
      "re_lu_5 (ReLU)               (None, 256, 256, 512)     0         \n",
      "_________________________________________________________________\n",
      "batch_normalization_5 (Batch (None, 256, 256, 512)     2048      \n",
      "_________________________________________________________________\n",
      "conv2d_6 (Conv2D)            (None, 256, 256, 512)     2359808   \n",
      "_________________________________________________________________\n",
      "re_lu_6 (ReLU)               (None, 256, 256, 512)     0         \n",
      "_________________________________________________________________\n",
      "batch_normalization_6 (Batch (None, 256, 256, 512)     2048      \n",
      "_________________________________________________________________\n",
      "up_sampling2d (UpSampling2D) (None, 512, 512, 512)     0         \n",
      "_________________________________________________________________\n",
      "conv2d_transpose (Conv2DTran (None, 1024, 1024, 256)   2097408   \n",
      "_________________________________________________________________\n",
      "re_lu_7 (ReLU)               (None, 1024, 1024, 256)   0         \n",
      "_________________________________________________________________\n",
      "conv2d_7 (Conv2D)            (None, 1024, 1024, 313)   721465    \n",
      "_________________________________________________________________\n",
      "re_lu_8 (ReLU)               (None, 1024, 1024, 313)   0         \n",
      "_________________________________________________________________\n",
      "batch_normalization_7 (Batch (None, 1024, 1024, 313)   1252      \n",
      "_________________________________________________________________\n",
      "conv2d_8 (Conv2D)            (None, 1024, 1024, 2)     5636      \n",
      "=================================================================\n",
      "Total params: 11,464,993\n",
      "Trainable params: 11,459,375\n",
      "Non-trainable params: 5,618\n",
      "_________________________________________________________________\n"
     ]
    }
   ],
   "source": [
    "LEARNING_RATE = 0.001\n",
    "Model_Colourization.compile(optimizer=Adam(lr=LEARNING_RATE),\n",
    "                            loss='mean_squared_error')\n",
    "Model_Colourization.summary()\n"
   ]
  },
  {
   "cell_type": "code",
   "execution_count": null,
   "metadata": {},
   "outputs": [
    {
     "name": "stdout",
     "output_type": "stream",
     "text": [
      "Epoch 1/4\n"
     ]
    }
   ],
   "source": [
    "def GenerateInputs(X_,y_):\n",
    "    for i in range(len(X_)):\n",
    "        X_input = X_[i].reshape(1,256,256,1)\n",
    "        y_input = y_[i].reshape(1,256,256,2)\n",
    "        yield (X_input,y_input)\n",
    "Model_Colourization.fit(GenerateInputs(X_,y_),epochs=4,verbose=1,steps_per_epoch=10,shuffle=True)"
   ]
  },
  {
   "cell_type": "code",
   "execution_count": null,
   "metadata": {},
   "outputs": [],
   "source": [
    "TestImagePath=\"./images/\"+\"val\"+\"/class/\"\n",
    "TestImagePath"
   ]
  },
  {
   "cell_type": "code",
   "execution_count": null,
   "metadata": {},
   "outputs": [],
   "source": [
    "def ExtractTestInput(ImagePath):\n",
    "    img = cv2.imread(ImagePath)\n",
    "    img = cv2.cvtColor(img, cv2.COLOR_BGR2RGB)\n",
    "    img = cv2.cvtColor(img, cv2.COLOR_RGB2GRAY)\n",
    "    img_ = cv2.cvtColor(img, cv2.COLOR_GRAY2RGB)\n",
    "    img_ = cv2.cvtColor(img_, cv2.COLOR_RGB2Lab)\n",
    "    img_=img_.astype(np.float32)\n",
    "    img_lab_rs = cv2.resize(img_, (WIDTH, HEIGHT)) # resize image to network input size\n",
    "    img_l = img_lab_rs[:,:,0] # pull out L channel\n",
    "    img_l_reshaped = img_l.reshape(1,224,224,1)\n",
    "    \n",
    "    return img_l_reshaped\n"
   ]
  },
  {
   "cell_type": "code",
   "execution_count": null,
   "metadata": {},
   "outputs": [],
   "source": [
    "ImagePath=TestImagePath+\"sun_auxuxzrqwkdkbbdn.jpg\"\n",
    "# plt.imshow(cv2.imread(ImagePath))\n",
    "image_for_test = ExtractTestInput(ImagePath)\n",
    "Prediction = Model_Colourization.predict(image_for_test)\n",
    "Prediction = Prediction*128\n",
    "Prediction=Prediction.reshape(224,224,2)"
   ]
  },
  {
   "cell_type": "code",
   "execution_count": null,
   "metadata": {},
   "outputs": [],
   "source": [
    "plt.figure(figsize=(30,20))\n",
    "plt.subplot(5,5,1)\n",
    "img = cv2.imread(TestImagePath+\"sun_auxuxzrqwkdkbbdn.jpg\")\n",
    "img_1 = cv2.cvtColor(img,cv2.COLOR_BGR2RGB)\n",
    "img = cv2.cvtColor(img_1, cv2.COLOR_RGB2GRAY)\n",
    "img = cv2.cvtColor(img, cv2.COLOR_GRAY2RGB)\n",
    "img = cv2.resize(img, (224, 224))\n",
    "plt.imshow(img)\n",
    "\n",
    "plt.subplot(5,5,1+1)\n",
    "img_ = cv2.cvtColor(img, cv2.COLOR_RGB2Lab)\n",
    "img_[:,:,1:] = Prediction\n",
    "plt.imshow(img_)\n",
    "# img_ = cv2.cvtColor(img_, cv2.COLOR_Lab2BGR)\n",
    "# plt.title(\"Predicted Image\")\n",
    "# plt.imshow(img_)\n",
    "\n",
    "plt.subplot(5,5,1+2)\n",
    "plt.title(\"Ground truth\")\n",
    "plt.imshow(img_1)"
   ]
  },
  {
   "cell_type": "code",
   "execution_count": null,
   "metadata": {},
   "outputs": [],
   "source": []
  }
 ],
 "metadata": {
  "kernelspec": {
   "display_name": "Python 3",
   "language": "python",
   "name": "python3"
  },
  "language_info": {
   "codemirror_mode": {
    "name": "ipython",
    "version": 3
   },
   "file_extension": ".py",
   "mimetype": "text/x-python",
   "name": "python",
   "nbconvert_exporter": "python",
   "pygments_lexer": "ipython3",
   "version": "3.8.5"
  }
 },
 "nbformat": 4,
 "nbformat_minor": 4
}
